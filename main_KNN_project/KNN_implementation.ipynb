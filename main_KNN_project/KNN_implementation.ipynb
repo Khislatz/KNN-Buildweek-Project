{
 "cells": [
  {
   "cell_type": "code",
   "execution_count": 11,
   "metadata": {},
   "outputs": [],
   "source": [
    "\"\"\" Import Statements \"\"\"\n",
    "\n",
    "import numpy as np\n",
    "from sklearn.model_selection import train_test_split\n",
    "import matplotlib.pyplot as plt\n",
    "from collections import Counter\n",
    "import pandas as pd\n",
    "import seaborn as sns\n",
    "import matplotlib.pyplot as plt\n",
    "from sklearn.neighbors import KNeighborsClassifier\n",
    "import category_encoders as ce\n",
    "from sklearn.preprocessing import StandardScaler\n",
    "\n",
    "def euclidean_d(p1, p2):\n",
    "    d = np.sqrt(np.sum(p1-p2)**2)\n",
    "    return d\n",
    "\n",
    "def euclidean_d_scipy(p1, p2):\n",
    "    d = distance.euclidean(p1, p2)\n",
    "    return d     \n",
    "\n",
    "def manhattan_d(p1, p2): \n",
    "    sum = 0\n",
    "    n = len(p1)  \n",
    "    # for each point, finding distance \n",
    "    # to rest of the point \n",
    "    for i in range(n): \n",
    "        for j in range(i+1,n): \n",
    "            sum += (abs(p1[i] - p1[j]) +\n",
    "                        abs(p2[i] - p2[j])) \n",
    "      \n",
    "    return sum"
   ]
  },
  {
   "cell_type": "code",
   "execution_count": 12,
   "metadata": {},
   "outputs": [],
   "source": [
    "class K_Nearest_Neigh:\n",
    "    # Create a constructor method, where we pass a value for k. We will assign the default value to 5\n",
    "    # to match with sklearn default k value\n",
    "    def __init__(self, k=5):\n",
    "        self.k = k\n",
    "   \n",
    "   # Create fit method and pass training data\n",
    "    def fit(self, X, y):\n",
    "        self.X_train = X\n",
    "        self.y_train = y\n",
    "    \n",
    "    # Create predict method \n",
    "    def main_predict_func(self, X):\n",
    "        predicted_classes = []\n",
    "        for x in X:\n",
    "            sample_predict = self.predict_per_sample_helper(x)\n",
    "            predicted_classes.append(sample_predict)\n",
    "        return np.array(predicted_classes)\n",
    "        \n",
    "    # Create a helper method, where we pass each sample value\n",
    "    def predict_per_sample_helper(self, x):\n",
    "        # Find the distances between the target and X_train values\n",
    "        find_dist = []\n",
    "        for x_train in self.X_train:\n",
    "            euc_dist = euclidean_d(x, x_train) \n",
    "            find_dist.append(euc_dist)\n",
    "        # Find the k-nearest neighbors samples \n",
    "        # We will sort the distances and return the indices of k neighbors \n",
    "        k_neigh_ind = np.argsort(find_dist)[0:self.k] \n",
    "        # Find the k-nearest neighbors labels \n",
    "        kn_class = [self.y_train[i] for i in k_neigh_ind]\n",
    "        # Find the most common class, which new data will be assigned to \n",
    "        majority_votes = Counter(kn_class).most_common(1) \n",
    "        return majority_votes[0][0]"
   ]
  },
  {
   "cell_type": "markdown",
   "metadata": {},
   "source": [
    "## Income Dataset"
   ]
  },
  {
   "cell_type": "code",
   "execution_count": 13,
   "metadata": {},
   "outputs": [
    {
     "data": {
      "text/html": [
       "<div>\n",
       "<style scoped>\n",
       "    .dataframe tbody tr th:only-of-type {\n",
       "        vertical-align: middle;\n",
       "    }\n",
       "\n",
       "    .dataframe tbody tr th {\n",
       "        vertical-align: top;\n",
       "    }\n",
       "\n",
       "    .dataframe thead th {\n",
       "        text-align: right;\n",
       "    }\n",
       "</style>\n",
       "<table border=\"1\" class=\"dataframe\">\n",
       "  <thead>\n",
       "    <tr style=\"text-align: right;\">\n",
       "      <th></th>\n",
       "      <th>Age</th>\n",
       "      <th>Education</th>\n",
       "      <th>Edu_num</th>\n",
       "      <th>Occupation</th>\n",
       "      <th>Race</th>\n",
       "      <th>Gender</th>\n",
       "      <th>Hours_per_week</th>\n",
       "      <th>Country</th>\n",
       "      <th>Income</th>\n",
       "    </tr>\n",
       "  </thead>\n",
       "  <tbody>\n",
       "    <tr>\n",
       "      <th>0</th>\n",
       "      <td>50</td>\n",
       "      <td>Bachelors</td>\n",
       "      <td>13</td>\n",
       "      <td>Exec-managerial</td>\n",
       "      <td>White</td>\n",
       "      <td>Male</td>\n",
       "      <td>13</td>\n",
       "      <td>United-States</td>\n",
       "      <td>0</td>\n",
       "    </tr>\n",
       "    <tr>\n",
       "      <th>1</th>\n",
       "      <td>38</td>\n",
       "      <td>HS-grad</td>\n",
       "      <td>9</td>\n",
       "      <td>Handlers-cleaners</td>\n",
       "      <td>White</td>\n",
       "      <td>Male</td>\n",
       "      <td>40</td>\n",
       "      <td>United-States</td>\n",
       "      <td>0</td>\n",
       "    </tr>\n",
       "    <tr>\n",
       "      <th>2</th>\n",
       "      <td>53</td>\n",
       "      <td>11th</td>\n",
       "      <td>7</td>\n",
       "      <td>Handlers-cleaners</td>\n",
       "      <td>Black</td>\n",
       "      <td>Male</td>\n",
       "      <td>40</td>\n",
       "      <td>United-States</td>\n",
       "      <td>0</td>\n",
       "    </tr>\n",
       "    <tr>\n",
       "      <th>3</th>\n",
       "      <td>28</td>\n",
       "      <td>Bachelors</td>\n",
       "      <td>13</td>\n",
       "      <td>Prof-specialty</td>\n",
       "      <td>Black</td>\n",
       "      <td>Female</td>\n",
       "      <td>40</td>\n",
       "      <td>Cuba</td>\n",
       "      <td>0</td>\n",
       "    </tr>\n",
       "    <tr>\n",
       "      <th>4</th>\n",
       "      <td>37</td>\n",
       "      <td>Masters</td>\n",
       "      <td>14</td>\n",
       "      <td>Exec-managerial</td>\n",
       "      <td>White</td>\n",
       "      <td>Female</td>\n",
       "      <td>40</td>\n",
       "      <td>United-States</td>\n",
       "      <td>0</td>\n",
       "    </tr>\n",
       "  </tbody>\n",
       "</table>\n",
       "</div>"
      ],
      "text/plain": [
       "   Age   Education  Edu_num          Occupation    Race   Gender  \\\n",
       "0   50   Bachelors       13     Exec-managerial   White     Male   \n",
       "1   38     HS-grad        9   Handlers-cleaners   White     Male   \n",
       "2   53        11th        7   Handlers-cleaners   Black     Male   \n",
       "3   28   Bachelors       13      Prof-specialty   Black   Female   \n",
       "4   37     Masters       14     Exec-managerial   White   Female   \n",
       "\n",
       "   Hours_per_week         Country  Income  \n",
       "0              13   United-States       0  \n",
       "1              40   United-States       0  \n",
       "2              40   United-States       0  \n",
       "3              40            Cuba       0  \n",
       "4              40   United-States       0  "
      ]
     },
     "execution_count": 13,
     "metadata": {},
     "output_type": "execute_result"
    }
   ],
   "source": [
    "# Load data\n",
    "income_df = pd.read_csv('income.csv')\n",
    "# Convert to binary classification \n",
    "income_df['Income'] = income_df['Income'].replace({' >50K':1,' <=50K':0}) \n",
    "income_df.head()"
   ]
  },
  {
   "cell_type": "code",
   "execution_count": 14,
   "metadata": {},
   "outputs": [
    {
     "data": {
      "text/plain": [
       "((26048, 9), (6512, 9))"
      ]
     },
     "execution_count": 14,
     "metadata": {},
     "output_type": "execute_result"
    }
   ],
   "source": [
    "# Split data into training and testing\n",
    "train, test = train_test_split(income_df, train_size=0.80, test_size=0.20, \n",
    "                              stratify=income_df['Income'], random_state=42)\n",
    "\n",
    "# Print shape of training and testing data\n",
    "train.shape, test.shape"
   ]
  },
  {
   "cell_type": "code",
   "execution_count": 15,
   "metadata": {},
   "outputs": [
    {
     "data": {
      "text/html": [
       "<div>\n",
       "<style scoped>\n",
       "    .dataframe tbody tr th:only-of-type {\n",
       "        vertical-align: middle;\n",
       "    }\n",
       "\n",
       "    .dataframe tbody tr th {\n",
       "        vertical-align: top;\n",
       "    }\n",
       "\n",
       "    .dataframe thead th {\n",
       "        text-align: right;\n",
       "    }\n",
       "</style>\n",
       "<table border=\"1\" class=\"dataframe\">\n",
       "  <thead>\n",
       "    <tr style=\"text-align: right;\">\n",
       "      <th></th>\n",
       "      <th>Age</th>\n",
       "      <th>Education</th>\n",
       "      <th>Edu_num</th>\n",
       "      <th>Occupation</th>\n",
       "      <th>Race</th>\n",
       "      <th>Gender</th>\n",
       "      <th>Hours_per_week</th>\n",
       "      <th>Country</th>\n",
       "    </tr>\n",
       "  </thead>\n",
       "  <tbody>\n",
       "    <tr>\n",
       "      <th>15737</th>\n",
       "      <td>32</td>\n",
       "      <td>1</td>\n",
       "      <td>13</td>\n",
       "      <td>1</td>\n",
       "      <td>1</td>\n",
       "      <td>1</td>\n",
       "      <td>45</td>\n",
       "      <td>1</td>\n",
       "    </tr>\n",
       "    <tr>\n",
       "      <th>3526</th>\n",
       "      <td>24</td>\n",
       "      <td>2</td>\n",
       "      <td>9</td>\n",
       "      <td>2</td>\n",
       "      <td>1</td>\n",
       "      <td>1</td>\n",
       "      <td>40</td>\n",
       "      <td>1</td>\n",
       "    </tr>\n",
       "    <tr>\n",
       "      <th>30412</th>\n",
       "      <td>45</td>\n",
       "      <td>3</td>\n",
       "      <td>10</td>\n",
       "      <td>3</td>\n",
       "      <td>1</td>\n",
       "      <td>1</td>\n",
       "      <td>40</td>\n",
       "      <td>1</td>\n",
       "    </tr>\n",
       "  </tbody>\n",
       "</table>\n",
       "</div>"
      ],
      "text/plain": [
       "       Age  Education  Edu_num  Occupation  Race  Gender  Hours_per_week  \\\n",
       "15737   32          1       13           1     1       1              45   \n",
       "3526    24          2        9           2     1       1              40   \n",
       "30412   45          3       10           3     1       1              40   \n",
       "\n",
       "       Country  \n",
       "15737        1  \n",
       "3526         1  \n",
       "30412        1  "
      ]
     },
     "execution_count": 15,
     "metadata": {},
     "output_type": "execute_result"
    }
   ],
   "source": [
    "# Arrange data into X features matrix and y target vector \n",
    "target = 'Income'\n",
    "X_train = train.drop(columns=target)\n",
    "y_train = train[target]\n",
    "X_test = test.drop(columns=target)\n",
    "y_test = test[target]\n",
    "\n",
    "# Transform the categorical variables\n",
    "encoder = ce.ordinal.OrdinalEncoder()\n",
    "X_train_enc = encoder.fit_transform(X_train)\n",
    "X_test_enc = encoder.transform(X_test)\n",
    "\n",
    "X_train_enc.head(3)"
   ]
  },
  {
   "cell_type": "code",
   "execution_count": 16,
   "metadata": {},
   "outputs": [
    {
     "data": {
      "text/plain": [
       "array([[-0.48483403, -0.83917527,  1.13176799, ..., -0.70438032,\n",
       "         0.36638869, -0.27187883],\n",
       "       [-1.07206349, -0.57051046, -0.41986719, ..., -0.70438032,\n",
       "        -0.03866069, -0.27187883],\n",
       "       [ 0.46941385, -0.30184566, -0.0319584 , ..., -0.70438032,\n",
       "        -0.03866069, -0.27187883],\n",
       "       ...,\n",
       "       [-1.43908191, -0.57051046, -0.41986719, ...,  1.41968759,\n",
       "         0.12335906, -0.27187883],\n",
       "       [-0.85185244, -0.03318085, -3.13522876, ..., -0.70438032,\n",
       "        -0.03866069,  1.17410768],\n",
       "       [ 0.32260648, -0.57051046, -0.41986719, ..., -0.70438032,\n",
       "        -0.03866069, -0.27187883]])"
      ]
     },
     "execution_count": 16,
     "metadata": {},
     "output_type": "execute_result"
    }
   ],
   "source": [
    "# Normalize the data\n",
    "# Convert data into numpy array\n",
    "X_train_enc = np.array(X_train_enc)\n",
    "X_test_enc = np.array(X_test_enc)\n",
    "\n",
    "scaler = StandardScaler()\n",
    "X_train = scaler.fit_transform(X_train_enc)\n",
    "X_test = scaler.transform(X_test_enc)\n",
    "y_train = np.array(y_train)\n",
    "y_train = np.array(y_train)\n",
    "\n",
    "X_train"
   ]
  },
  {
   "cell_type": "code",
   "execution_count": 25,
   "metadata": {},
   "outputs": [
    {
     "data": {
      "text/plain": [
       "((26048, 8), (26048,), (6512, 8), (6512,))"
      ]
     },
     "execution_count": 25,
     "metadata": {},
     "output_type": "execute_result"
    }
   ],
   "source": [
    "X_train.shape, y_train.shape, X_test.shape, y_test.shape"
   ]
  },
  {
   "cell_type": "markdown",
   "metadata": {},
   "source": [
    "## Accuracy score using K_Nearest_Neigh algorithm"
   ]
  },
  {
   "cell_type": "code",
   "execution_count": 17,
   "metadata": {},
   "outputs": [
    {
     "name": "stdout",
     "output_type": "stream",
     "text": [
      "[0 0 0 ... 0 0 0]\n",
      "Accuracy score using KNN algorithm: 0.7248157248157249\n"
     ]
    }
   ],
   "source": [
    "# Create an object neigh for our algorithm K_Nearest_Neigh \n",
    "neigh = K_Nearest_Neigh(k=5)\n",
    "# Fit and predict data \n",
    "neigh.fit(X_train, y_train)\n",
    "pred = neigh.main_predict_func(X_test)\n",
    "print(pred)\n",
    "acc_score = np.sum(pred == y_test) / len(y_test)\n",
    "print(f'Accuracy score using KNN algorithm: {acc_score}')"
   ]
  },
  {
   "cell_type": "markdown",
   "metadata": {},
   "source": [
    "## KNN accuracy score using Scikit-Learn library"
   ]
  },
  {
   "cell_type": "code",
   "execution_count": 35,
   "metadata": {},
   "outputs": [
    {
     "name": "stdout",
     "output_type": "stream",
     "text": [
      "KNN using Scikit-Learn library:\n",
      "[0 0 0 ... 0 0 0]\n",
      "[[0.8 0.2]\n",
      " [1.  0. ]\n",
      " [0.6 0.4]\n",
      " ...\n",
      " [0.8 0.2]\n",
      " [0.8 0.2]\n",
      " [1.  0. ]]\n",
      "Accuracy score using Scikit Learn KNN algorithm: 0.7954545454545454\n"
     ]
    }
   ],
   "source": [
    "print('KNN using Scikit-Learn library:')\n",
    "               \n",
    "neigh = KNeighborsClassifier(n_neighbors=5)\n",
    "neigh.fit(X_train, y_train)\n",
    "\n",
    "print(neigh.predict(X_test))\n",
    "\n",
    "print(neigh.predict_proba(X_test))\n",
    "accuracy_score = neigh.score(X_test, y_test)\n",
    "\n",
    "print(f'Accuracy score using Scikit Learn KNN algorithm: {accuracy_score}')"
   ]
  },
  {
   "cell_type": "code",
   "execution_count": 33,
   "metadata": {},
   "outputs": [
    {
     "data": {
      "image/png": "[encoded data removed]",
      "text/plain": [
       "<Figure size 1152x648 with 1 Axes>"
      ]
     },
     "metadata": {
      "needs_background": "light"
     },
     "output_type": "display_data"
    }
   ],
   "source": [
    "# We take a range of values for K(1 to 15) and find the accuracy \n",
    "# so that we can visualize how accuracy changes based on value of K\n",
    "accuracy = []\n",
    "for n in range(1,14):\n",
    "    neigh = K_Nearest_Neigh(k=n)\n",
    "    neigh.fit(X_train,y_train)\n",
    "    y_pred = neigh.predict(X_test)\n",
    "    acc_score = np.sum(y_pred == y_test) / len(y_test)\n",
    "    accuracy.append(acc_score)\n",
    "# Plot the accuracies for different k values\n",
    "plt.figure(figsize=(16,9))\n",
    "plt.plot(range(1,14), accuracy)\n",
    "# Display the title \n",
    "plt.title(\"Relationship between k and accuracy\", fontsize=15)\n",
    "# Display the x and y labels\n",
    "plt.xlabel(\"Value of k\")\n",
    "plt.ylabel(\"Accuracy\")\n",
    "plt.show()"
   ]
  }
 ],
 "metadata": {
  "kernelspec": {
   "display_name": "Python 3",
   "language": "python",
   "name": "python3"
  },
  "language_info": {
   "codemirror_mode": {
    "name": "ipython",
    "version": 3
   },
   "file_extension": ".py",
   "mimetype": "text/x-python",
   "name": "python",
   "nbconvert_exporter": "python",
   "pygments_lexer": "ipython3",
   "version": "3.7.0"
  }
 },
 "nbformat": 4,
 "nbformat_minor": 4
}
